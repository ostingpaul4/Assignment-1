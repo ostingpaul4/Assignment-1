{
 "cells": [
  {
   "cell_type": "markdown",
   "id": "422a9296",
   "metadata": {},
   "source": [
    "Paul Osting\n",
    "Assignment 1\n",
    "Version 1 \n",
    "CS-150-01"
   ]
  },
  {
   "cell_type": "markdown",
   "id": "9c964a64",
   "metadata": {},
   "source": []
  },
  {
   "cell_type": "markdown",
   "id": "16783de0",
   "metadata": {},
   "source": [
    "# Computer Prog for Liberal Arts (CS-150-01)"
   ]
  },
  {
   "cell_type": "markdown",
   "id": "aa37672d",
   "metadata": {},
   "source": [
    "## Getting Started With Markdown (Version 1)"
   ]
  },
  {
   "cell_type": "markdown",
   "id": "88691d15",
   "metadata": {},
   "source": [
    ">Sample Blockquote"
   ]
  },
  {
   "cell_type": "markdown",
   "id": "4927f4bc",
   "metadata": {},
   "source": [
    "* Course Introduction\n",
    "* Variables and Simple Data Types\n",
    "* Introducing Lists, Tuples \n",
    "* if Statements\n",
    "* Dictionaries\n",
    "* While Loops\n",
    "* Functions\n",
    "* Classes\n",
    "* Numpy"
   ]
  },
  {
   "cell_type": "markdown",
   "id": "84ad75da",
   "metadata": {},
   "source": [
    "1. Assignment 1 \n",
    "2. Assignment 2 \n",
    "3. Assignment 3 \n",
    "4. Assignment 4 \n",
    "5. Assignment 5\n",
    "6. Assignment 6\n",
    "7. Assignment 7"
   ]
  },
  {
   "cell_type": "markdown",
   "id": "4c7e5440",
   "metadata": {},
   "source": [
    "**This is a sentence with bold words.**"
   ]
  },
  {
   "cell_type": "markdown",
   "id": "54e485be",
   "metadata": {},
   "source": [
    "*This is a sentence with italics words.*"
   ]
  },
  {
   "cell_type": "markdown",
   "id": "081b93c0",
   "metadata": {},
   "source": [
    "'This is a highlighted sentence'"
   ]
  },
  {
   "cell_type": "markdown",
   "id": "9808a586",
   "metadata": {},
   "source": [
    "My Github account can be found at\n",
    "<a href=\"https://github.com/ostingpaul4?>\">this link.</a>"
   ]
  },
  {
   "cell_type": "markdown",
   "id": "3e698de7",
   "metadata": {},
   "source": [
    "![Picture of a Baseball](http://cdn.chatsports.com/thumbnails/547-30499-original.jpeg)"
   ]
  },
  {
   "cell_type": "code",
   "execution_count": null,
   "id": "f8ca297d",
   "metadata": {},
   "outputs": [],
   "source": []
  }
 ],
 "metadata": {
  "kernelspec": {
   "display_name": "Python 3 (ipykernel)",
   "language": "python",
   "name": "python3"
  },
  "language_info": {
   "codemirror_mode": {
    "name": "ipython",
    "version": 3
   },
   "file_extension": ".py",
   "mimetype": "text/x-python",
   "name": "python",
   "nbconvert_exporter": "python",
   "pygments_lexer": "ipython3",
   "version": "3.9.13"
  }
 },
 "nbformat": 4,
 "nbformat_minor": 5
}
